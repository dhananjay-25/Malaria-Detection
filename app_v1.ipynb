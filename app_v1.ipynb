{
 "cells": [
  {
   "cell_type": "code",
   "execution_count": 1,
   "metadata": {},
   "outputs": [
    {
     "name": "stderr",
     "output_type": "stream",
     "text": [
      "WARNING:absl:Compiled the loaded model, but the compiled metrics have yet to be built. `model.compile_metrics` will be empty until you train or evaluate the model.\n"
     ]
    }
   ],
   "source": [
    "import ipywidgets as widgets\n",
    "from IPython.display import display, clear_output\n",
    "import numpy as np\n",
    "import tensorflow as tf\n",
    "from tensorflow.keras.preprocessing.image import load_img, img_to_array\n",
    "import matplotlib.pyplot as plt\n",
    "from PIL import Image\n",
    "\n",
    "# Load the saved model\n",
    "model = tf.keras.models.load_model('malaria_cnn_model.h5')  # Update with the correct file name\n"
   ]
  },
  {
   "cell_type": "code",
   "execution_count": 3,
   "metadata": {},
   "outputs": [
    {
     "data": {
      "application/vnd.jupyter.widget-view+json": {
       "model_id": "3522471d17c14d71b60945b47b84ee53",
       "version_major": 2,
       "version_minor": 0
      },
      "text/plain": [
       "VBox(children=(FileUpload(value=(), accept='.jpg,.png,.jpeg', description='Upload'), Button(description='Predi…"
      ]
     },
     "metadata": {},
     "output_type": "display_data"
    }
   ],
   "source": [
    "IMG_HEIGHT, IMG_WIDTH = 150, 150\n",
    "\n",
    "# Function to preprocess the image\n",
    "def preprocess_image(image_path):\n",
    "    img = load_img(image_path, target_size=(IMG_HEIGHT, IMG_WIDTH))\n",
    "    img_array = img_to_array(img) / 255.0  # Normalize pixel values\n",
    "    img_array = np.expand_dims(img_array, axis=0)  # Add batch dimension\n",
    "    return img_array\n",
    "\n",
    "# Function to predict and display results\n",
    "def predict_image(image_path):\n",
    "    # Preprocess image\n",
    "    img_array = preprocess_image(image_path)\n",
    "    \n",
    "    # Perform prediction\n",
    "    prediction = model.predict(img_array)\n",
    "    \n",
    "    # Extract the predicted class and confidence\n",
    "    predicted_class = 'Parasite' if prediction[0] < 0.5 else 'Uninfected'\n",
    "    confidence = prediction[0][0] if prediction[0] > 0.5 else 1 - prediction[0][0]\n",
    "    \n",
    "    # Display the image\n",
    "    img = Image.open(image_path)\n",
    "    plt.imshow(img)\n",
    "    plt.axis('off')\n",
    "    plt.title(f\"Prediction: {predicted_class}\\nConfidence: {confidence:.2f}\")\n",
    "    plt.show()\n",
    "\n",
    "# Create file upload widget\n",
    "uploader = widgets.FileUpload(\n",
    "    accept='.jpg,.png,.jpeg',  # Accept only image files\n",
    "    multiple=False  # Allow only single file upload\n",
    ")\n",
    "\n",
    "# Button to trigger prediction\n",
    "button = widgets.Button(description=\"Predict\")\n",
    "\n",
    "# Output area to display results\n",
    "output = widgets.Output()\n",
    "\n",
    "# Event handler for button click\n",
    "def on_button_click(b):\n",
    "    with output:\n",
    "        clear_output(wait=True)  # Clear previous output\n",
    "        if uploader.value:\n",
    "            # Get the uploaded image file (handling tuple correctly)\n",
    "            uploaded_file = uploader.value[0] \n",
    "            content = uploaded_file['content']            \n",
    "            \n",
    "            # Save the uploaded image to disk\n",
    "            file_path = 'uploaded_image.jpg'\n",
    "            with open(file_path, 'wb') as f:\n",
    "                f.write(content)\n",
    "            \n",
    "            # Predict and display results\n",
    "            predict_image(file_path)\n",
    "        else:\n",
    "            print(\"Please upload an image.\")\n",
    "\n",
    "# Link the button click event to the handler\n",
    "button.on_click(on_button_click)\n",
    "\n",
    "# Display widgets and output\n",
    "display(widgets.VBox([uploader, button, output]))"
   ]
  },
  {
   "cell_type": "code",
   "execution_count": null,
   "metadata": {},
   "outputs": [],
   "source": []
  }
 ],
 "metadata": {
  "kernelspec": {
   "display_name": "base",
   "language": "python",
   "name": "python3"
  },
  "language_info": {
   "codemirror_mode": {
    "name": "ipython",
    "version": 3
   },
   "file_extension": ".py",
   "mimetype": "text/x-python",
   "name": "python",
   "nbconvert_exporter": "python",
   "pygments_lexer": "ipython3",
   "version": "3.11.5"
  }
 },
 "nbformat": 4,
 "nbformat_minor": 2
}
